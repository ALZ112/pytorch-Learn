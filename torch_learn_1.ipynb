{
  "nbformat": 4,
  "nbformat_minor": 0,
  "metadata": {
    "colab": {
      "provenance": [],
      "gpuType": "T4",
      "authorship_tag": "ABX9TyMZ7PyjGcaTFEZDgVqL4Bie",
      "include_colab_link": true
    },
    "kernelspec": {
      "name": "python3",
      "display_name": "Python 3"
    },
    "language_info": {
      "name": "python"
    },
    "accelerator": "GPU"
  },
  "cells": [
    {
      "cell_type": "markdown",
      "metadata": {
        "id": "view-in-github",
        "colab_type": "text"
      },
      "source": [
        "<a href=\"https://colab.research.google.com/github/ALZ112/pytorch-Learn/blob/main/torch_learn_1.ipynb\" target=\"_parent\"><img src=\"https://colab.research.google.com/assets/colab-badge.svg\" alt=\"Open In Colab\"/></a>"
      ]
    },
    {
      "cell_type": "code",
      "execution_count": 2,
      "metadata": {
        "id": "Cm4gBQHgtcSF"
      },
      "outputs": [],
      "source": [
        "import torch\n"
      ]
    },
    {
      "cell_type": "code",
      "source": [
        "# Define tensors with requires_grad=True to track computation history\n",
        "x = torch.tensor(2.0, requires_grad=True)\n",
        "y = torch.tensor(3.0, requires_grad=True)\n",
        "\n",
        "# Perform a computation\n",
        "z = x**2 + y**3\n",
        "print(\"Output tensor z:\", z)\n",
        "\n",
        "# Compute gradients\n",
        "x.backward()\n",
        "y.backward()\n",
        "\n",
        "x.grad.zero_()\n",
        "y.grad.zero_()\n",
        "\n",
        "z.backward()\n",
        "print(\"Gradient of x:\", x.grad)\n",
        "print(\"Gradient of y:\", y.grad)"
      ],
      "metadata": {
        "colab": {
          "base_uri": "https://localhost:8080/"
        },
        "id": "uvcVXyEYtyWe",
        "outputId": "aced8a2c-8703-4cdd-d6c6-df97a5f1c16d"
      },
      "execution_count": 3,
      "outputs": [
        {
          "output_type": "stream",
          "name": "stdout",
          "text": [
            "Output tensor z: tensor(31., grad_fn=<AddBackward0>)\n",
            "Gradient of x: tensor(4.)\n",
            "Gradient of y: tensor(27.)\n"
          ]
        }
      ]
    },
    {
      "cell_type": "code",
      "source": [
        "x = torch.tensor(10.0,requires_grad=True)\n",
        "y = torch.tensor(20.0,requires_grad=True)\n",
        "z = x ** 3 + y **2\n",
        "z.backward()\n",
        "print(x.grad)\n",
        "print(y.grad)"
      ],
      "metadata": {
        "colab": {
          "base_uri": "https://localhost:8080/"
        },
        "id": "yzcXNfwdE4lX",
        "outputId": "36c52529-aa7d-4192-94a8-c14a54c25994"
      },
      "execution_count": 4,
      "outputs": [
        {
          "output_type": "stream",
          "name": "stdout",
          "text": [
            "tensor(300.)\n",
            "tensor(40.)\n"
          ]
        }
      ]
    },
    {
      "cell_type": "code",
      "source": [
        "x.grad.zero_()\n",
        "y.grad.zero_()"
      ],
      "metadata": {
        "colab": {
          "base_uri": "https://localhost:8080/"
        },
        "id": "7C5RQ5uUGVYm",
        "outputId": "369537eb-fdfe-41f4-8574-52dfc45d1810"
      },
      "execution_count": 5,
      "outputs": [
        {
          "output_type": "execute_result",
          "data": {
            "text/plain": [
              "tensor(0.)"
            ]
          },
          "metadata": {},
          "execution_count": 5
        }
      ]
    },
    {
      "cell_type": "code",
      "source": [],
      "metadata": {
        "id": "AQa-IaUgGH4m"
      },
      "execution_count": 5,
      "outputs": []
    },
    {
      "cell_type": "code",
      "source": [
        "import torch\n",
        "\n",
        "# Define tensors\n",
        "x = torch.tensor(10.0, requires_grad=True)\n",
        "y = torch.tensor(20.0, requires_grad=True)\n",
        "\n",
        "# First computation\n",
        "z = x ** 3 + y ** 2\n",
        "z.backward(retain_graph=True)  # Retain the graph for further backward passes\n",
        "print(\"Gradient of x after z.backward():\", x.grad)\n",
        "print(\"Gradient of y after z.backward():\", y.grad)\n",
        "\n",
        "# Zero the gradients\n",
        "x.grad.zero_()\n",
        "y.grad.zero_()\n",
        "z.retain_grad()\n",
        "# Second computation\n",
        "k = z ** 2\n",
        "y_pred = 10 * (k ** 2)\n",
        "y_req = 1e12\n",
        "loss = (y_pred - y_req) ** 2\n",
        "loss.backward()\n",
        "print(\"Gradient of x after loss.backward():\", x.grad)\n",
        "print(\"Gradient of y after loss.backward():\", y.grad)\n"
      ],
      "metadata": {
        "colab": {
          "base_uri": "https://localhost:8080/"
        },
        "id": "05Wy8rzuFVYW",
        "outputId": "6e74ac4e-5504-4627-ef02-fbea9ca92c84"
      },
      "execution_count": 6,
      "outputs": [
        {
          "output_type": "stream",
          "name": "stdout",
          "text": [
            "Gradient of x after z.backward(): tensor(300.)\n",
            "Gradient of y after z.backward(): tensor(40.)\n",
            "Gradient of x after loss.backward(): tensor(2.4641e+27)\n",
            "Gradient of y after loss.backward(): tensor(3.2854e+26)\n"
          ]
        }
      ]
    },
    {
      "cell_type": "code",
      "source": [
        "tensor_a = torch.tensor(2) # No Brackets -> 0 Dimension; this is also known as a scalar\n",
        "tensor_b = torch.tensor([3,4,5]) # 1 Bracket -> 1 Dimension; this is also known as a vector\n",
        "tensor_c = torch.tensor([[[1, 2, 3], # 3 Bracket -> 3 Dimension\n",
        "                        [3, 6, 9],\n",
        "                        [2, 4, 5]]])\n",
        "\n",
        "print(f\"Shape of tensor_a: {tensor_a.shape}, number of dimension: {tensor_a.ndim}\")\n",
        "print(f\"Shape of tensor_b: {tensor_b.shape}, number of dimension: {tensor_b.ndim}\")\n",
        "print(f\"Shape of tensor_c: {tensor_c.shape}, number of dimensions: {tensor_c.ndim}\")"
      ],
      "metadata": {
        "colab": {
          "base_uri": "https://localhost:8080/"
        },
        "id": "CYyflYZJG_Ju",
        "outputId": "2a792e90-8010-431f-84b6-d27b1abff62f"
      },
      "execution_count": 7,
      "outputs": [
        {
          "output_type": "stream",
          "name": "stdout",
          "text": [
            "Shape of tensor_a: torch.Size([]), number of dimension: 0\n",
            "Shape of tensor_b: torch.Size([3]), number of dimension: 1\n",
            "Shape of tensor_c: torch.Size([1, 3, 3]), number of dimensions: 3\n"
          ]
        }
      ]
    },
    {
      "cell_type": "code",
      "source": [
        "torch.cuda.is_available()"
      ],
      "metadata": {
        "colab": {
          "base_uri": "https://localhost:8080/"
        },
        "id": "OMXW8vvdG8FW",
        "outputId": "8329757f-689e-437c-e90f-366cb1cd08ba"
      },
      "execution_count": 8,
      "outputs": [
        {
          "output_type": "execute_result",
          "data": {
            "text/plain": [
              "True"
            ]
          },
          "metadata": {},
          "execution_count": 8
        }
      ]
    },
    {
      "cell_type": "code",
      "source": [],
      "metadata": {
        "id": "YzBD-bKXG9v3"
      },
      "execution_count": 8,
      "outputs": []
    },
    {
      "cell_type": "code",
      "source": [],
      "metadata": {
        "id": "4Fh5pFs0FITn"
      },
      "execution_count": 8,
      "outputs": []
    }
  ]
}